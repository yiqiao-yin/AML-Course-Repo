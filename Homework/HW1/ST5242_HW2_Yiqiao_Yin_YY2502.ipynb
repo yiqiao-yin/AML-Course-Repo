{
  "nbformat": 4,
  "nbformat_minor": 0,
  "metadata": {
    "colab": {
      "name": "ST5242_HW2_Yiqiao_Yin_YY2502.ipynb",
      "version": "0.3.2",
      "provenance": [],
      "collapsed_sections": [],
      "toc_visible": true
    }
  },
  "cells": [
    {
      "metadata": {
        "id": "6qRmNrKYsqdS",
        "colab_type": "text"
      },
      "cell_type": "markdown",
      "source": [
        "# HOMEWORK\n",
        "\n",
        "This is Homework #2. My name is Yiqiao Yin and my UNI is yy2502. I approve this message. "
      ]
    },
    {
      "metadata": {
        "id": "4diWaPCzmgvz",
        "colab_type": "text"
      },
      "cell_type": "markdown",
      "source": [
        "# PROBLEM 1 (HMM)\n",
        "\n",
        "Suppose we have to model text data which is streamed from a news feed; each news item is part of a single topic. After random number of words, the new items ends and the next item begins. \n",
        "\n",
        "- There are $K$ topics. We have estimated the probability vector $\\theta_1, ..., \\theta_k$ (where $\\theta_k$ is the parameter vector of a multinomial which models text with topic $k$)\n",
        "- At any given word, the probability of remaining within the current topic is 0.99. \n",
        "- The probability of switching to a different topic is 0.01. For simplicity, assume all topics are equally likely. The probability to swtich to a specific new topic is $q:=\\frac{0.01}{K-1}$ for each topic. "
      ]
    },
    {
      "metadata": {
        "id": "Q6ihy40WEowB",
        "colab_type": "text"
      },
      "cell_type": "markdown",
      "source": [
        "## (a) Define a HMM\n",
        "\n",
        "We define the HMM by defining the following:\n",
        "- The state space is $k: k \\in \\{1, 2, ..., K\\}$ and thus there are $Z_1, Z_2, ..., Z_k$.\n",
        "- The sample space is $X_i: i \\in \\{1, 2, ..., n\\}$ and thus there are $X_1, X_2, ..., X_n$\n",
        "- The topics, $Z_1, Z_2, ..., Z_k$, are unobserved (hidden) variables; and the words, $X_1, X_2, ..., X_n$ are observed variables.\n",
        "- Transition matrix, denoted by $q$, is defined as \n",
        "$q := \\left\\{\\begin{array}{lcl}\n",
        "0.99 && \\text{ if } i = j \\\\ \n",
        "\\frac{0.01}{K-1} && \\text{ else, e.g. } i \\neq j\\\\ \n",
        "\\end{array}\\right.$\n",
        "- Emission matrix, denoted by $\\mathbb{P}(X|Z)$ is defined as \n",
        "$\\mathbb{P}(X = i|Z = k) = \\theta_{ik}$\n",
        "while $i$ is in $(1,2, ..., m)$ and $k$ is in $(1, 2, ..., K)$. Note: check multinomials"
      ]
    },
    {
      "metadata": {
        "id": "38JYUUfwGbrK",
        "colab_type": "text"
      },
      "cell_type": "markdown",
      "source": [
        "## (b) Stochastical Independence\n",
        "\n",
        "Consider $\\mathbb{P}(X|Z)$ and we have the following\n",
        "\\begin{align*}\n",
        "\\mathbb{P}(X_i|Z_k)\n",
        "&= \\frac{\\mathbb{P}(X_i \\cap Z_k)}{\\mathbb{P}(Z_k)} \\\\\n",
        "&= \\frac{\\mathbb{P}(X_i) \\mathbb{P}(Z_k|A_i)}{\\sum_{i=1}^K \\mathbb{P}(X_i) \\mathbb{P}(Z_k|X_i)} \\\\\n",
        "\\end{align*}\n",
        "which is a function of $\\mathbb{P}(X_{i-2})$ and this shows that $\\mathbb{P}(X_i|Z_k) \\neq \\mathbb{P}(X_i) \\mathbb{P}(Z_k)$. Thus, there is dependence relationship."
      ]
    },
    {
      "metadata": {
        "id": "CB_Yk04mMhU2",
        "colab_type": "text"
      },
      "cell_type": "markdown",
      "source": [
        "# PROBLEM 2 (GIBBS SAMPLING)\n",
        "\n",
        "For a set $x_1, ..., x_d$, we write $x_{-i}$ for the set with $i$th element removed. \n",
        "$x_{-i} = \\{x_1, ..., x_{i-1}, x_{i+1}, ..., x_d\\}$\n",
        "and we proceed with the following questions."
      ]
    },
    {
      "metadata": {
        "id": "hSAWsZaCMyjt",
        "colab_type": "text"
      },
      "cell_type": "markdown",
      "source": [
        "## (a) Derive full conditional $p(x_i|x_{-i})$\n",
        "\n",
        "Define data $x_n \\sim \\text{Multinomials}(\\pi)$ and $z_n|x_n, \\mu_{1:K} \\sim N(\\mu, \\sigma^2)$. Then we have\n",
        "\\begin{align*}\n",
        "p(x_i|x_{-i}, z) \n",
        "&\\propto \\int_{\\mu} p(x_i, \\mu_{1:K}|x_{-i}, x) \\\\\n",
        "&= \\int_{\\mu} p(x_i|\\mu_{1:K}, x_{-i}, x) p(\\mu_{1:K}|x_{-i}, x) \\\\\n",
        "&= p(x_i) \\int_{\\mu} p(z_i|\\mu_{x_i}) p(\\mu_{x_i}|z_{m: x_m = z_i}) \\\\\n",
        "\\end{align*}\n",
        "and we are done. "
      ]
    },
    {
      "metadata": {
        "id": "SwRiYpBCM6Pm",
        "colab_type": "text"
      },
      "cell_type": "markdown",
      "source": [
        "## (b) Derive full conditional $\\mathbb{P}(X_i = \\cdot | X_{-i})$\n",
        "\n",
        "We have the following\n",
        "\n",
        "$P(\\cdot|X_{-i}) := \\left\\{\\begin{array}{lcl}\n",
        "\\sigma(\\theta_i X_{i-1}) && \\text{ if } X_{-i} = 1 \\\\\n",
        "1 - \\sigma(\\theta_i X_{i-1}) && \\text{ if } X_{-i} = 0 \\\\\n",
        "\\end{array}\\right.$\n",
        "\n",
        "and let us write out the sigmoid function\n",
        "\n",
        "$P(\\cdot|X_{-i}) := \\left\\{\\begin{array}{lcl}\n",
        "\\frac{1}{1 + \\exp(-\\theta_i X_{i-1})} && \\text{ if } X_{-i} = 1 \\\\\n",
        "1 - \\frac{1}{1 + \\exp(-\\theta_i X_{i-1})} = \\frac{\\exp(-\\theta_i X_{i-1})}{1 + \\exp(-\\theta_i X_{i-1})} && \\text{ if } X_{-i} = 0 \\\\\n",
        "\\end{array}\\right.$"
      ]
    },
    {
      "metadata": {
        "id": "_dPYQJ0nOv6b",
        "colab_type": "text"
      },
      "cell_type": "markdown",
      "source": [
        "# PROBLEM 3 (IMPLEMENTATION)\n",
        "\n",
        "Based on the understanding of Problem 2, we implement the idea here in the following."
      ]
    },
    {
      "metadata": {
        "id": "0hPlwJaZO3h2",
        "colab_type": "text"
      },
      "cell_type": "markdown",
      "source": [
        "## (a) Implement Gibbs Sampler\n",
        "\n",
        "Implement Gibbs Sampler for the $d$-dimensional Gaussian. Sample a bunch of points using Gibbs sampling and compare them to points sampled from the true distribution. In this section, I’ll define the true joint distribution. This problem I used framework from [Jessica Stringham](http://jessicastringham.net/2018/05/09/gibbs-sampling.html). However, the premise I use the one provided from our problem. For (c), we need to code our own function, sigmoid function, instead of using Gaussian. "
      ]
    },
    {
      "metadata": {
        "id": "5lcFELiq7N4s",
        "colab_type": "code",
        "colab": {}
      },
      "cell_type": "code",
      "source": [
        "# Import packages \n",
        "import tensorflow as tf\n",
        "import numpy as np\n",
        "import matplotlib.pyplot as plt\n",
        "from numpy import linalg as la\n",
        "from mpl_toolkits.mplot3d import Axes3D\n",
        "from scipy.stats import multivariate_normal as mvn\n"
      ],
      "execution_count": 0,
      "outputs": []
    },
    {
      "metadata": {
        "id": "ry7ZTkaO7Jj3",
        "colab_type": "code",
        "colab": {}
      },
      "cell_type": "code",
      "source": [
        "# Work with 2 dimensions\n",
        "D = 2\n",
        "\n",
        "# set up the means\n",
        "a_mu = 1\n",
        "b_mu = 1\n",
        "\n",
        "a_sigma = 1\n",
        "b_sigma = 5\n",
        "a_b_cov = 1\n",
        "\n",
        "joint_cov = np.vstack(((a_sigma, a_b_cov), (a_b_cov, b_sigma)))\n",
        "joint_mu = np.vstack((a_mu, b_mu))"
      ],
      "execution_count": 0,
      "outputs": []
    },
    {
      "metadata": {
        "id": "cUVKnU3Q7SBi",
        "colab_type": "code",
        "colab": {}
      },
      "cell_type": "code",
      "source": [
        "# Use the Cholesky decomposition of the covariance matrix\n",
        "#N = 10000\n",
        "\n",
        "#L = np.linalg.cholesky(joint_cov)\n",
        "#samples_from_true_distribution =  np.matmul(L, np.random.randn(D, N)) + joint_mu\n",
        "\n",
        "# This code is to check the true distribution\n",
        "# We will hide this since this is for my own education only.\n"
      ],
      "execution_count": 0,
      "outputs": []
    },
    {
      "metadata": {
        "id": "8XQMb0PG7jID",
        "colab_type": "code",
        "colab": {}
      },
      "cell_type": "code",
      "source": [
        "def get_conditional_dist(joint_mu, joint_cov, var_index):\n",
        "    '''Returns the conditional distribution given the joint distribution and which variable\n",
        "    the conditional probability should use.\n",
        "    Right now this only works for 2-variable joint distributions.\n",
        "    \n",
        "      joint_mu: joint distribution's mu\n",
        "      joint_cov: joint distribution's covariance\n",
        "      var_index: index of the variable in the joint distribution. Everything else will be \n",
        "        conditioned on. For example, if the joint distribution p(a, b, c) has mu [mu_a, mu_b, mu_c],\n",
        "        to get p(c | a, b), use var_index = 2.\n",
        "      \n",
        "    returns:\n",
        "      a function that can sample from the univariate conditional distribution\n",
        "    '''\n",
        "    assert joint_mu.shape[0] == 2, 'Only works for 2-dimensional joint distributions right now'\n",
        "    a = joint_mu[var_index]\n",
        "    b = joint_mu[~var_index]\n",
        "    \n",
        "    A = joint_cov[var_index, var_index]\n",
        "    B = joint_cov[~var_index, ~var_index]\n",
        "    C = joint_cov[var_index, ~var_index]\n",
        "    \n",
        "    # we're dealing with one dimension so\n",
        "    B_inv = 1/B\n",
        "    \n",
        "    # Return a function that can sample given a value of g\n",
        "    def dist(g):\n",
        "        # a + C*B^{-1}(g - b)\n",
        "        mu = a + C * B_inv * (g - b)\n",
        "        # A - C * B^{-1} * C^T\n",
        "        cov = A - B_inv * C * C\n",
        "        return np.sqrt(cov) * np.random.randn(1) + mu\n",
        "    \n",
        "    return dist"
      ],
      "execution_count": 0,
      "outputs": []
    },
    {
      "metadata": {
        "id": "OpCJ0Tmw7mLj",
        "colab_type": "code",
        "colab": {}
      },
      "cell_type": "code",
      "source": [
        "# Set up the conditional probability distribution for each dimension\n",
        "\n",
        "univariate_conditionals = [\n",
        "    get_conditional_dist(joint_mu, joint_cov, d)\n",
        "    for d in range(D)\n",
        "]"
      ],
      "execution_count": 0,
      "outputs": []
    },
    {
      "metadata": {
        "id": "jstTy0bO7i-r",
        "colab_type": "code",
        "colab": {}
      },
      "cell_type": "code",
      "source": [
        "# Implement the Gibbs sampling algorithm\n",
        "def gibbs_sample(univariate_conditionals, sample_count):\n",
        "    '''Does Gibbs sampling given the distribution's univariate conditionals.\n",
        "    \n",
        "    Returns a D x N matrix\n",
        "    '''\n",
        "    D = len(univariate_conditionals)\n",
        "    assert D == 2, \"Sorry, this only supports 2 dimensions right now\"\n",
        "    \n",
        "    # initializes an empty matrix for the samples\n",
        "    samples = np.zeros((D, sample_count))\n",
        "\n",
        "    # initialize the first sample to some arbitrary value\n",
        "    samples[:, 0] = [3, -3]\n",
        "    \n",
        "    for i in range(1, sample_count):\n",
        "        # first set this sample equal to the previous sample\n",
        "        samples[:, i] = samples[:, i - 1]\n",
        "        \n",
        "        # now update the dimension whose turn it is using the conditional distribution\n",
        "        # pass in all dimension from the previous sample except this dimension\n",
        "        d = i % D\n",
        "        samples[d, i] = univariate_conditionals[d](samples[~d, i - 1])\n",
        "                 \n",
        "    return samples\n"
      ],
      "execution_count": 0,
      "outputs": []
    },
    {
      "metadata": {
        "id": "XnSMxKlmO_rL",
        "colab_type": "text"
      },
      "cell_type": "markdown",
      "source": [
        "## (b) Run $d=2$ \n",
        "\n",
        "Run sampler for $d = 2$ on a Gaussian with mean vector and covariance matrix\n",
        "$\n",
        "\\mu = \n",
        "\\begin{pmatrix}\n",
        "1 \\\\\n",
        "1 \\\\\n",
        "\\end{pmatrix}\n",
        ", \\text{ and }\n",
        "\\Sigma = \n",
        "\\begin{pmatrix}\n",
        "1 & 1 \\\\\n",
        "1 & 5 \\\\\n",
        "\\end{pmatrix}\n",
        "$ and visualize the results. Plot the contour lines of Gaussian (for one standard deviation) against, say, 1000 samples of the Gibbs sampler."
      ]
    },
    {
      "metadata": {
        "id": "BeThM7o2795I",
        "colab_type": "code",
        "colab": {
          "base_uri": "https://localhost:8080/",
          "height": 707
        },
        "outputId": "febe515e-ebb8-44bb-80ba-4afae9b39f4b"
      },
      "cell_type": "code",
      "source": [
        "# Import\n",
        "import numpy as np\n",
        "from scipy.interpolate import griddata\n",
        "import matplotlib.pyplot as plt\n",
        "import numpy.ma as ma\n",
        "from numpy.random import uniform, seed\n",
        "from matplotlib import cm\n",
        "\n",
        "def gauss(x,y,Sigma,mu):\n",
        "    X=np.vstack((x,y)).T\n",
        "    mat_multi=np.dot((X-mu[None,...]).dot(np.linalg.inv(Sigma)),(X-mu[None,...]).T)\n",
        "    return  np.diag(np.exp(-1*(mat_multi)))\n",
        "\n",
        "# Gaussian\n",
        "def plot_countour(x,y,z):\n",
        "    # define grid.\n",
        "    xi = np.linspace(-2.1, 2.1, 100)\n",
        "    yi = np.linspace(-2.1, 2.1, 100)\n",
        "    ## grid the data.\n",
        "    zi = griddata((x, y), z, (xi[None,:], yi[:,None]), method='cubic')\n",
        "    levels = [0.6, 0.8, 1.0]\n",
        "    # contour the gridded data, plotting dots at the randomly spaced data points.\n",
        "    CS = plt.contour(xi,yi,zi,len(levels),linewidths=0.5,colors='k', levels=levels)\n",
        "    #CS = plt.contourf(xi,yi,zi,15,cmap=plt.cm.jet)\n",
        "    CS = plt.contourf(xi,yi,zi,len(levels),cmap=cm.Greys_r, levels=levels)\n",
        "    plt.colorbar() # draw colorbar\n",
        "    # plot data points.\n",
        "    # plt.scatter(x, y, marker='o', c='b', s=5)\n",
        "    plt.xlim(-2, 4)\n",
        "    plt.ylim(-2, 4)\n",
        "    plt.title('Gaussian (%d points)' % npts)\n",
        "    plt.show()\n",
        "\n",
        "\n",
        "# make up some randomly distributed data\n",
        "seed(1234)\n",
        "npts = 1000\n",
        "x = uniform(-2, 2, npts)\n",
        "y = uniform(-2, 2, npts)\n",
        "z = gauss(x, y, Sigma=np.asarray([[1.,1.],[1.,5.]]), mu=np.asarray([1.,1.]))\n",
        "#z = gauss(x, y, Sigma=np.asarray([[1.,1.],[1.,5.]]), mu=np.asarray([1.,1.]))\n",
        "plot_countour(x, y, z)\n",
        "\n",
        "# Gibbs Sampler\n",
        "samples = gibbs_sample(univariate_conditionals, sample_count=npts)\n",
        "\n",
        "# Plot Gibbs Sampler in Contour\n",
        "fig = plt.figure()\n",
        "plt.plot(samples[0,:], \n",
        "        samples[1,:])\n",
        "plt.title('Gibbs Sampler (%d points)' % npts)\n",
        "plt.show()"
      ],
      "execution_count": 6,
      "outputs": [
        {
          "output_type": "display_data",
          "data": {
            "image/png": "[encoded data removed]",
            "text/plain": [
              "<matplotlib.figure.Figure at 0x7f712721a7d0>"
            ]
          },
          "metadata": {
            "tags": []
          }
        },
        {
          "output_type": "display_data",
          "data": {
            "image/png": "[encoded data removed]",
            "text/plain": [
              "<matplotlib.figure.Figure at 0x7f7122931cd0>"
            ]
          },
          "metadata": {
            "tags": []
          }
        }
      ]
    },
    {
      "metadata": {
        "id": "OUTUh5S3PacT",
        "colab_type": "text"
      },
      "cell_type": "markdown",
      "source": [
        "## (c) Implement Gibbs Sampler (before and after burn-in)\n",
        "\n",
        "Implement Gibbs sampler for distribution in part (b) above, with $\\theta_1 = \\dots = \\theta_6 = \\frac{1}{3}$. Compare before and after burn-in."
      ]
    },
    {
      "metadata": {
        "id": "brOBZDd5D8z7",
        "colab_type": "code",
        "colab": {}
      },
      "cell_type": "code",
      "source": [
        "def get_conditional_dist(joint_mu, joint_cov, var_index):\n",
        "    '''Returns the conditional distribution given the joint distribution and which variable\n",
        "    the conditional probability should use.\n",
        "    Right now this only works for 2-variable joint distributions.\n",
        "    \n",
        "      joint_mu: joint distribution's mu\n",
        "      joint_cov: joint distribution's covariance\n",
        "      var_index: index of the variable in the joint distribution. Everything else will be \n",
        "        conditioned on. For example, if the joint distribution p(a, b, c) has mu [mu_a, mu_b, mu_c],\n",
        "        to get p(c | a, b), use var_index = 2.\n",
        "      \n",
        "    returns:\n",
        "      a function that can sample from the univariate conditional distribution\n",
        "    '''\n",
        "    assert joint_mu.shape[0] == 2, 'Only works for 2-dimensional joint distributions right now'\n",
        "    a = joint_mu[var_index]\n",
        "    b = joint_mu[~var_index]\n",
        "    \n",
        "    A = joint_cov[var_index, var_index]\n",
        "    B = joint_cov[~var_index, ~var_index]\n",
        "    C = joint_cov[var_index, ~var_index]\n",
        "    \n",
        "    # we're dealing with one dimension so\n",
        "    B_inv = 1/B\n",
        "    \n",
        "    # Return a function that can sample given a value of g\n",
        "    def dist(g):\n",
        "        # a + C*B^{-1}(g - b)\n",
        "        mu = a + C * B_inv * (g - b)\n",
        "        # A - C * B^{-1} * C^T\n",
        "        cov = A - B_inv * C * C\n",
        "        #return np.sqrt(cov)*np.random.randn(1) + mu\n",
        "        return 1 + np.exp(0.333333*np.sqrt(cov)*np.random.randn(1) + 0.333333*mu)\n",
        "    \n",
        "    return dist"
      ],
      "execution_count": 0,
      "outputs": []
    },
    {
      "metadata": {
        "id": "eVY1CaYhPqQY",
        "colab_type": "code",
        "colab": {}
      },
      "cell_type": "code",
      "source": [
        "# Set up the conditional probability distribution for each dimension\n",
        "\n",
        "sigmoid_conditionals = [\n",
        "    #1 + np.exp((1/3), np.array(get_conditional_dist(joint_mu, joint_cov, d)))\n",
        "    get_conditional_dist(joint_mu, joint_cov, d)\n",
        "    for d in range(D)\n",
        "]"
      ],
      "execution_count": 0,
      "outputs": []
    },
    {
      "metadata": {
        "id": "VQJxWWX_Fcmy",
        "colab_type": "code",
        "colab": {}
      },
      "cell_type": "code",
      "source": [
        "# Implement the Gibbs sampling algorithm\n",
        "def gibbs_sample(sigmoid_conditionals, sample_count):\n",
        "    '''Does Gibbs sampling given the distribution's univariate conditionals.\n",
        "    \n",
        "    Returns a D x N matrix\n",
        "    '''\n",
        "    D = len(sigmoid_conditionals)\n",
        "    assert D == 2, \"Sorry, this only supports 2 dimensions right now\"\n",
        "    \n",
        "    # initializes an empty matrix for the samples\n",
        "    samples = np.zeros((D, sample_count))\n",
        "\n",
        "    # initialize the first sample to some arbitrary value\n",
        "    samples[:, 0] = [3, -3]\n",
        "    \n",
        "    for i in range(1, sample_count):\n",
        "        # first set this sample equal to the previous sample\n",
        "        #i = 1\n",
        "        samples[:, i] = samples[:, i - 1]\n",
        "        \n",
        "        # now update the dimension whose turn it is using the conditional distribution\n",
        "        # pass in all dimension from the previous sample except this dimension\n",
        "        d = i % D\n",
        "        samples[d, i] = sigmoid_conditionals[d](samples[~d, i - 1])\n",
        "        #i = i + 1\n",
        "        #samples, i\n",
        "                 \n",
        "    return samples\n"
      ],
      "execution_count": 0,
      "outputs": []
    },
    {
      "metadata": {
        "id": "zpt5SJNMFfl7",
        "colab_type": "code",
        "colab": {
          "base_uri": "https://localhost:8080/",
          "height": 362
        },
        "outputId": "654facf6-9996-4b52-ea5f-68e1bb60116c"
      },
      "cell_type": "code",
      "source": [
        "# Gibbs Sampler\n",
        "npts = 1000\n",
        "samples = gibbs_sample(sigmoid_conditionals, sample_count=npts)\n",
        "#samples = np.array(samples.T[200:, ]).T\n",
        "#samples.shape # Check the size\n",
        "\n",
        "# Plot Gibbs Sampler in Contour\n",
        "fig = plt.figure()\n",
        "plt.plot(samples[0,:], \n",
        "        samples[1,:])\n",
        "plt.title('Gibbs Sampler Before Burn-in (%d points)' % npts)\n",
        "plt.show()"
      ],
      "execution_count": 173,
      "outputs": [
        {
          "output_type": "display_data",
          "data": {
            "image/png": "[encoded data removed]",
            "text/plain": [
              "<matplotlib.figure.Figure at 0x7f71224ce1d0>"
            ]
          },
          "metadata": {
            "tags": []
          }
        }
      ]
    },
    {
      "metadata": {
        "id": "3kyOXMKiGf1Y",
        "colab_type": "code",
        "colab": {
          "base_uri": "https://localhost:8080/",
          "height": 362
        },
        "outputId": "752a3118-db55-49ee-f610-61b6f1a287fe"
      },
      "cell_type": "code",
      "source": [
        "# Gibbs Sampler\n",
        "npts = 1000\n",
        "samples = gibbs_sample(sigmoid_conditionals, sample_count=npts)\n",
        "samples = np.array(samples.T[500:, ]).T\n",
        "#samples.shape # Check the size\n",
        "\n",
        "# Plot Gibbs Sampler in Contour\n",
        "fig = plt.figure()\n",
        "plt.plot(samples[0,:], \n",
        "        samples[1,:])\n",
        "plt.title('Gibbs Sampler After Burn-in (%d points)' % npts)\n",
        "plt.show()"
      ],
      "execution_count": 174,
      "outputs": [
        {
          "output_type": "display_data",
          "data": {
            "image/png": "[encoded data removed]",
            "text/plain": [
              "<matplotlib.figure.Figure at 0x7f71228415d0>"
            ]
          },
          "metadata": {
            "tags": []
          }
        }
      ]
    },
    {
      "metadata": {
        "id": "659RUXqIjNLa",
        "colab_type": "text"
      },
      "cell_type": "markdown",
      "source": [
        "From the above python implementation, we have done the following:\n",
        "\n",
        "- We update our Gibbs Sampler using Exponential conditional according to 2b.\n",
        "- Then we plot the path before and after burn-in (assuming using drop the first 500 nodes). \n",
        "\n",
        "We compare the plot and we observe that the initial values are dropped and the plot after burn-in is a lot more smoother on the area. If we were to initiate from a different spot, we would have observed the same result."
      ]
    },
    {
      "metadata": {
        "id": "ulljnxN2j-um",
        "colab_type": "code",
        "colab": {}
      },
      "cell_type": "code",
      "source": [
        ""
      ],
      "execution_count": 0,
      "outputs": []
    }
  ]
}