{
  "nbformat": 4,
  "nbformat_minor": 0,
  "metadata": {
    "colab": {
      "name": "cifar10-super-convergence-more-aug.ipynb",
      "version": "0.3.2",
      "provenance": [],
      "collapsed_sections": [],
      "toc_visible": true
    },
    "kernelspec": {
      "display_name": "Python 3",
      "language": "python",
      "name": "python3"
    }
  },
  "cells": [
    {
      "metadata": {
        "id": "QRnBdzIqsuxS",
        "colab_type": "text"
      },
      "cell_type": "markdown",
      "source": [
        "## CIFAR 10"
      ]
    },
    {
      "metadata": {
        "id": "JpfPUofKsuxT",
        "colab_type": "code",
        "colab": {}
      },
      "cell_type": "code",
      "source": [
        "%matplotlib inline\n",
        "%reload_ext autoreload\n",
        "%autoreload 2"
      ],
      "execution_count": 0,
      "outputs": []
    },
    {
      "metadata": {
        "id": "hKCS3mUAsuxW",
        "colab_type": "code",
        "colab": {}
      },
      "cell_type": "code",
      "source": [
        "import argparse\n",
        "import os\n",
        "import shutil\n",
        "import time\n",
        "\n",
        "from fastai.transforms import *\n",
        "from fastai.dataset import *\n",
        "from fastai.fp16 import *\n",
        "from fastai.conv_learner import *\n",
        "from pathlib import *\n",
        "\n",
        "import torch\n",
        "from torch.autograd import Variable\n",
        "import torch.nn as nn\n",
        "import torch.nn.parallel\n",
        "import torch.backends.cudnn as cudnn\n",
        "import torch.distributed as dist\n",
        "import torch.optim\n",
        "import torch.utils.data\n",
        "import torch.utils.data.distributed\n",
        "import torchvision.transforms as transforms\n",
        "import torchvision.datasets as datasets\n",
        "import models\n",
        "import models.cifar10 as cifar10models\n",
        "from distributed import DistributedDataParallel as DDP\n",
        "\n",
        "# print(models.cifar10.__dict__)\n",
        "model_names = sorted(name for name in models.__dict__\n",
        "                     if name.islower() and not name.startswith(\"__\")\n",
        "                     and callable(models.__dict__[name]))\n",
        "\n",
        "cifar10_names = sorted(name for name in cifar10models.__dict__\n",
        "                     if name.islower() and not name.startswith(\"__\")\n",
        "                     and callable(cifar10models.__dict__[name]))\n",
        "\n",
        "model_names = cifar10_names + model_names"
      ],
      "execution_count": 0,
      "outputs": []
    },
    {
      "metadata": {
        "id": "XzWBOqnwsuxZ",
        "colab_type": "code",
        "outputId": "6f04c59b-e928-4415-e076-279e5a064966",
        "colab": {}
      },
      "cell_type": "code",
      "source": [
        "\n",
        "print(model_names)\n",
        "\n",
        "parser = argparse.ArgumentParser(description='PyTorch Cifar10 Training')\n",
        "parser.add_argument('data', metavar='DIR',\n",
        "                    help='path to dataset')\n",
        "parser.add_argument('--save-dir', type=str, default=Path.home()/'imagenet_training',\n",
        "                    help='Directory to save logs and models.')\n",
        "parser.add_argument('--arch', '-a', metavar='ARCH', default='resnet56',\n",
        "                    choices=model_names,\n",
        "                    help='model architecture: ' +\n",
        "                    ' | '.join(model_names) +\n",
        "                    ' (default: resnet56)')\n",
        "parser.add_argument('-j', '--workers', default=7, type=int, metavar='N',\n",
        "                    help='number of data loading workers (default: 4)')\n",
        "parser.add_argument('--epochs', default=1, type=int, metavar='N',\n",
        "                    help='number of total epochs to run')\n",
        "parser.add_argument('--cycle-len', default=95, type=float, metavar='N',\n",
        "                    help='Length of cycle to run')\n",
        "# parser.add_argument('--start-epoch', default=0, type=int, metavar='N',\n",
        "#                     help='manual epoch number (useful on restarts)')\n",
        "parser.add_argument('-b', '--batch-size', default=512, type=int,\n",
        "                    metavar='N', help='mini-batch size (default: 256)')\n",
        "parser.add_argument('--lr', '--learning-rate', default=0.8, type=float,\n",
        "                    metavar='LR', help='initial learning rate')\n",
        "parser.add_argument('--momentum', default=0.9, type=float, metavar='M', help='momentum')\n",
        "parser.add_argument('--weight-decay', '--wd', default=1e-4, type=float,\n",
        "                    metavar='W', help='weight decay (default: 1e-4)')\n",
        "# parser.add_argument('--print-freq', '-p', default=10, type=int,\n",
        "#                     metavar='N', help='print frequency (default: 10)')\n",
        "# parser.add_argument('--resume', default='', type=str, metavar='PATH',\n",
        "#                     help='path to latest checkpoint (default: none)')\n",
        "# parser.add_argument('-e', '--evaluate', dest='evaluate', action='store_true',\n",
        "#                     help='evaluate model on validation set')\n",
        "parser.add_argument('--pretrained', dest='pretrained', action='store_true', help='use pre-trained model')\n",
        "parser.add_argument('--fp16', action='store_true', help='Run model fp16 mode.')\n",
        "parser.add_argument('--use-tta', default=True, type=bool, help='Validate model with TTA at the end of traiing.')\n",
        "parser.add_argument('--train-half', action='store_true', help='Train model on half images. TODO: allow custom epochs and LR')\n",
        "parser.add_argument('--sz',       default=32, type=int, help='Size of transformed image.')\n",
        "# parser.add_argument('--decay-int', default=30, type=int, help='Decay LR by 10 every decay-int epochs')\n",
        "parser.add_argument('--use-clr', default='10,13.68,0.95,0.85', type=str, \n",
        "                    help='div,pct,max_mom,min_mom. Pass in a string delimited by commas. Ex: \"20,2,0.95,0.85\"')\n",
        "parser.add_argument('--loss-scale', type=float, default=128,\n",
        "                    help='Loss scaling, positive power of 2 values can improve fp16 convergence.')\n",
        "parser.add_argument('--prof', dest='prof', action='store_true', help='Only run a few iters for profiling.')\n",
        "\n",
        "parser.add_argument('--dist-url', default='file://sync.file', type=str,\n",
        "                    help='url used to set up distributed training')\n",
        "parser.add_argument('--dist-backend', default='nccl', type=str, help='distributed backend')\n",
        "\n",
        "parser.add_argument('--world-size', default=1, type=int,\n",
        "                    help='Number of GPUs to use. Can either be manually set ' +\n",
        "                    'or automatically set by using \\'python -m multiproc\\'.')\n",
        "parser.add_argument('--rank', default=0, type=int,\n",
        "                    help='Used for multi-process training. Can either be manually set ' +\n",
        "                    'or automatically set by using \\'python -m multiproc\\'.')\n",
        "\n",
        "class TorchModelData(ModelData):\n",
        "    def __init__(self, path, trn_dl, val_dl, aug_dl=None):\n",
        "        super().__init__(path, trn_dl, val_dl)\n",
        "        self.aug_dl = aug_dl\n",
        "\n",
        "def torch_loader(data_path, size):\n",
        "    # Data loading code\n",
        "    traindir = os.path.join(data_path, 'train')\n",
        "    valdir = os.path.join(data_path, 'test')\n",
        "    normalize = transforms.Normalize(mean=[0.4914 , 0.48216, 0.44653], std=[0.24703, 0.24349, 0.26159])\n",
        "    \n",
        "    scale_size = 40\n",
        "    padding = int((scale_size - size) / 2)\n",
        "    train_tfms = transforms.Compose([\n",
        "        transforms.RandomCrop(size, padding=padding),\n",
        "        transforms.ColorJitter(.2,.2,.2),\n",
        "#         transforms.RandomRotation(2),\n",
        "        transforms.RandomHorizontalFlip(),\n",
        "        transforms.ToTensor(),\n",
        "        normalize,\n",
        "    ])\n",
        "    train_dataset = datasets.ImageFolder(traindir, train_tfms)\n",
        "    train_sampler = (torch.utils.data.distributed.DistributedSampler(train_dataset)\n",
        "                     if args.distributed else None)\n",
        "    train_loader = torch.utils.data.DataLoader(\n",
        "        train_dataset, batch_size=args.batch_size, shuffle=(train_sampler is None),\n",
        "        num_workers=args.workers, pin_memory=True, sampler=train_sampler)\n",
        "\n",
        "    val_tfms = transforms.Compose([\n",
        "    #   transforms.Resize(int(size*1.14)),\n",
        "    #   transforms.CenterCrop(size),\n",
        "        transforms.ToTensor(),\n",
        "        normalize,\n",
        "    ])\n",
        "    val_loader = torch.utils.data.DataLoader(\n",
        "        datasets.ImageFolder(valdir, val_tfms),\n",
        "        batch_size=args.batch_size, shuffle=False,\n",
        "        num_workers=args.workers, pin_memory=True)\n",
        "\n",
        "\n",
        "    aug_loader = torch.utils.data.DataLoader(\n",
        "        datasets.ImageFolder(valdir, train_tfms),\n",
        "        batch_size=args.batch_size, shuffle=False,\n",
        "        num_workers=args.workers, pin_memory=True)\n",
        "\n",
        "    train_loader = DataPrefetcher(train_loader)\n",
        "    val_loader = DataPrefetcher(val_loader)\n",
        "    aug_loader = DataPrefetcher(aug_loader)\n",
        "    if args.prof:\n",
        "        train_loader.stop_after = 200\n",
        "        val_loader.stop_after = 0\n",
        "\n",
        "    data = TorchModelData(data_path, train_loader, val_loader, aug_loader)\n",
        "    return data, train_sampler\n",
        "\n",
        "\n",
        "# Seems to speed up training by ~2%\n",
        "class DataPrefetcher():\n",
        "    def __init__(self, loader, stop_after=None):\n",
        "        self.loader = loader\n",
        "        self.dataset = loader.dataset\n",
        "        self.stream = torch.cuda.Stream()\n",
        "        self.stop_after = stop_after\n",
        "        self.next_input = None\n",
        "        self.next_target = None\n",
        "\n",
        "    def __len__(self):\n",
        "        return len(self.loader)\n",
        "    \n",
        "    def preload(self):\n",
        "        try:\n",
        "            self.next_input, self.next_target = next(self.loaditer)\n",
        "        except StopIteration:\n",
        "            self.next_input = None\n",
        "            self.next_target = None\n",
        "            return\n",
        "        with torch.cuda.stream(self.stream):\n",
        "            self.next_input = self.next_input.cuda(async=True)\n",
        "            self.next_target = self.next_target.cuda(async=True)\n",
        "\n",
        "    def __iter__(self):\n",
        "        count = 0\n",
        "        self.loaditer = iter(self.loader)\n",
        "        self.preload()\n",
        "        while self.next_input is not None:\n",
        "            torch.cuda.current_stream().wait_stream(self.stream)\n",
        "            input = self.next_input\n",
        "            target = self.next_target\n",
        "            self.preload()\n",
        "            count += 1\n",
        "            yield input, target\n",
        "            if type(self.stop_after) is int and (count > self.stop_after):\n",
        "                break\n",
        "                \n",
        "def top5(output, target):\n",
        "    \"\"\"Computes the precision@k for the specified values of k\"\"\"\n",
        "    top5 = 5\n",
        "    batch_size = target.size(0)\n",
        "    _, pred = output.topk(top5, 1, True, True)\n",
        "    pred = pred.t()\n",
        "    correct = pred.eq(target.view(1, -1).expand_as(pred))\n",
        "    correct_k = correct[:top5].view(-1).float().sum(0, keepdim=True)\n",
        "    return correct_k.mul_(1.0 / batch_size)\n",
        "\n",
        "\n",
        "class ImagenetLoggingCallback(Callback):\n",
        "    def __init__(self, save_path, print_every=50):\n",
        "        super().__init__()\n",
        "        self.save_path=save_path\n",
        "        self.print_every=print_every\n",
        "    def on_train_begin(self):\n",
        "        self.batch = 0\n",
        "        self.epoch = 0\n",
        "        self.f = open(self.save_path, \"a\", 1)\n",
        "        self.log(\"\\ton_train_begin\")\n",
        "    def on_epoch_end(self, metrics):\n",
        "        log_str = f'\\tEpoch:{self.epoch}\\ttrn_loss:{self.last_loss}'\n",
        "        for (k,v) in zip(['val_loss', 'acc', 'top5', ''], metrics): log_str += f'\\t{k}:{v}'\n",
        "        self.log(log_str)\n",
        "        self.epoch += 1\n",
        "    def on_batch_end(self, metrics):\n",
        "        self.last_loss = metrics\n",
        "        self.batch += 1\n",
        "        if self.batch % self.print_every == 0:\n",
        "            self.log(f'Epoch: {self.epoch} Batch: {self.batch} Metrics: {metrics}')\n",
        "    def on_train_end(self):\n",
        "        self.log(\"\\ton_train_end\")\n",
        "        self.f.close()\n",
        "    def log(self, string):\n",
        "        self.f.write(time.strftime(\"%Y-%m-%dT%H:%M:%S\")+\"\\t\"+string+\"\\n\")\n",
        "\n",
        "# Logging + saving models\n",
        "def save_args(name, save_dir):\n",
        "    if (args.rank != 0) or not args.save_dir: return {}\n",
        "\n",
        "    log_dir = f'{save_dir}/training_logs'\n",
        "    os.makedirs(log_dir, exist_ok=True)\n",
        "    return {\n",
        "        'best_save_name': f'{name}_best_model',\n",
        "        'cycle_save_name': f'{name}',\n",
        "        'callbacks': [\n",
        "            ImagenetLoggingCallback(f'{log_dir}/{name}_log.txt')\n",
        "        ]\n",
        "    }\n",
        "\n",
        "def save_sched(sched, save_dir):\n",
        "    if (args.rank != 0) or not args.save_dir: return {}\n",
        "    log_dir = f'{save_dir}/training_logs'\n",
        "    sched.save_path = log_dir\n",
        "    sched.plot_loss()\n",
        "    sched.plot_lr()\n",
        "\n",
        "def update_model_dir(learner, base_dir):\n",
        "    learner.tmp_path = f'{base_dir}/tmp'\n",
        "    os.makedirs(learner.tmp_path, exist_ok=True)\n",
        "    learner.models_path = f'{base_dir}/models'\n",
        "    os.makedirs(learner.models_path, exist_ok=True)\n",
        "    "
      ],
      "execution_count": 0,
      "outputs": [
        {
          "output_type": "stream",
          "text": [
            "['resnet56', 'resnext29_16_64', 'resnext29_8_64', 'dpn107', 'dpn131', 'dpn68', 'dpn92', 'dpn98', 'inceptionresnetv2', 'inceptionresnetv2_conc', 'inceptionv4', 'load', 'load_block17', 'load_block35', 'load_block8', 'load_conv2d', 'load_conv2d_nobn', 'load_linear', 'load_mixed_4a_7a', 'load_mixed_5', 'load_mixed_5b', 'load_mixed_6', 'load_mixed_6a', 'load_mixed_7', 'load_mixed_7a', 'nasnetalarge', 'pre_resnet101', 'pre_resnet152', 'pre_resnet18', 'pre_resnet34', 'pre_resnet50', 'reduce', 'resnet101', 'resnet152', 'resnet18', 'resnet34', 'resnet50', 'resnext101', 'resnext152', 'resnext18', 'resnext34', 'resnext50', 'resnext_101_32x4d', 'resnext_101_64x4d', 'resnext_50_32x4d', 'se_resnet_101', 'se_resnet_152', 'se_resnet_18', 'se_resnet_34', 'se_resnet_50', 'se_resnet_50_conc', 'se_resnext_101', 'se_resnext_152', 'se_resnext_50', 'test', 'test_block17', 'test_block35', 'test_block8', 'test_conv2d', 'test_conv2d_nobn', 'test_mixed_4a_7a', 'test_mixed_5b', 'test_mixed_6a', 'test_mixed_7a', 'wrn_50_2f']\n"
          ],
          "name": "stdout"
        }
      ]
    },
    {
      "metadata": {
        "id": "XNZ4t4ousuxf",
        "colab_type": "text"
      },
      "cell_type": "markdown",
      "source": [
        "### Resnet block"
      ]
    },
    {
      "metadata": {
        "id": "mT54zGD4suxh",
        "colab_type": "code",
        "colab": {}
      },
      "cell_type": "code",
      "source": [
        "args_input = [\n",
        "    '/home/AML-Final-Project/data/cifar10', \n",
        "    '--save-dir', '/home/AML-Final-Project/data/cifar_training/test1', \n",
        "#     '-a', 'resnext29_8_64', \n",
        "#     '-j', '6', \n",
        "#     '--prof', \n",
        "    '-b', '512', \n",
        "#     '--sz', '32',\n",
        "#     '--loss-scale', '128',\n",
        "    '--fp16',\n",
        "    '--cycle-len', '110',\n",
        "#     '--epochs', '1',\n",
        "#     '--use-clr', '10,13.68,0.95,0.85',\n",
        "    '--wd', '2e-4',\n",
        "    '--lr', '1',\n",
        "#     '--train-half' # With fp16, iterations are so fast this doesn't matter\n",
        "]"
      ],
      "execution_count": 0,
      "outputs": []
    },
    {
      "metadata": {
        "id": "nmCzITegsuxk",
        "colab_type": "code",
        "colab": {}
      },
      "cell_type": "code",
      "source": [
        "\n",
        "# This is important for speed\n",
        "cudnn.benchmark = True\n",
        "global arg\n",
        "args = parser.parse_args(args_input); args\n",
        "if args.cycle_len > 1: args.cycle_len = int(args.cycle_len)"
      ],
      "execution_count": 0,
      "outputs": []
    },
    {
      "metadata": {
        "id": "0ath_bKesuxm",
        "colab_type": "code",
        "colab": {}
      },
      "cell_type": "code",
      "source": [
        "args.distributed = args.world_size > 1\n",
        "args.gpu = 0\n",
        "if args.distributed:\n",
        "    args.gpu = args.rank % torch.cuda.device_count()\n",
        "\n",
        "if args.distributed:\n",
        "    torch.cuda.set_device(args.gpu)\n",
        "    dist.init_process_group(backend=args.dist_backend, init_method=args.dist_url,\n",
        "                            world_size=args.world_size)\n",
        "\n",
        "if args.fp16:\n",
        "    assert torch.backends.cudnn.enabled, \"fp16 mode requires cudnn backend to be enabled.\""
      ],
      "execution_count": 0,
      "outputs": []
    },
    {
      "metadata": {
        "id": "oViLvUlQsuxp",
        "colab_type": "code",
        "outputId": "112a1392-2145-4514-a685-55d2116cc318",
        "colab": {}
      },
      "cell_type": "code",
      "source": [
        "# create model\n",
        "model = cifar10models.__dict__[args.arch] if args.arch in cifar10_names else models.__dict__[args.arch] \n",
        "if args.pretrained:\n",
        "    print(\"=> using pre-trained model '{}'\".format(args.arch))\n",
        "    model = model(pretrained=True)\n",
        "else:\n",
        "    print(\"=> creating model '{}'\".format(args.arch))\n",
        "    model = model()"
      ],
      "execution_count": 0,
      "outputs": [
        {
          "output_type": "stream",
          "text": [
            "=> creating model 'resnet56'\n"
          ],
          "name": "stdout"
        }
      ]
    },
    {
      "metadata": {
        "id": "YAyOJIQisuxt",
        "colab_type": "code",
        "colab": {}
      },
      "cell_type": "code",
      "source": [
        "model = model.cuda()\n",
        "if args.distributed:\n",
        "    model = DDP(model)"
      ],
      "execution_count": 0,
      "outputs": []
    },
    {
      "metadata": {
        "id": "FKaoAUmWsuxw",
        "colab_type": "code",
        "colab": {}
      },
      "cell_type": "code",
      "source": [
        "if args.train_half:\n",
        "    data, train_sampler = torch_loader(args.data, 16)\n",
        "else:\n",
        "    data, train_sampler = torch_loader(args.data, args.sz)\n",
        "\n",
        "learner = Learner.from_model_data(model, data)\n",
        "# learner.crit = F.nll_loss\n",
        "learner.crit = F.cross_entropy\n",
        "learner.metrics = [accuracy]\n",
        "if args.fp16: learner.half()\n",
        "\n",
        "if args.prof:\n",
        "    args.epochs = 1\n",
        "    args.cycle_len=.01\n",
        "if args.use_clr:\n",
        "    args.use_clr = tuple(map(float, args.use_clr.split(',')))"
      ],
      "execution_count": 0,
      "outputs": []
    },
    {
      "metadata": {
        "id": "HIeM4krcsux-",
        "colab_type": "code",
        "colab": {}
      },
      "cell_type": "code",
      "source": [
        "if args.train_half: \n",
        "    save_dir = args.save_dir+'/128'\n",
        "    update_model_dir(learner, save_dir)\n",
        "    sargs = save_args('first_run_128', save_dir)\n",
        "    learner.fit(args.lr,args.epochs, cycle_len=45,\n",
        "                train_sampler=train_sampler,\n",
        "                wds=args.weight_decay,\n",
        "                use_clr_beta=args.use_clr,\n",
        "                loss_scale=args.loss_scale,\n",
        "                **sargs\n",
        "            )\n",
        "    save_sched(learner.sched, save_dir)\n",
        "    data, train_sampler = torch(args.data, args.sz)\n",
        "    learner.set_data(data)"
      ],
      "execution_count": 0,
      "outputs": []
    },
    {
      "metadata": {
        "scrolled": true,
        "id": "RzrtiJQfsuyB",
        "colab_type": "code",
        "outputId": "7a6d01a3-4f41-4127-98db-9ff5a257c356",
        "colab": {}
      },
      "cell_type": "code",
      "source": [
        "# Full size\n",
        "update_model_dir(learner, args.save_dir)\n",
        "sargs = save_args('first_run', args.save_dir)\n",
        "learner.fit(args.lr,args.epochs, cycle_len=args.cycle_len,\n",
        "            sampler=train_sampler,\n",
        "            wds=args.weight_decay,\n",
        "            use_clr_beta=args.use_clr,\n",
        "            loss_scale=args.loss_scale,\n",
        "            **sargs\n",
        "           )\n",
        "save_sched(learner.sched, args.save_dir)\n",
        "\n",
        "print('Finished!')"
      ],
      "execution_count": 0,
      "outputs": [
        {
          "output_type": "display_data",
          "data": {
            "application/vnd.jupyter.widget-view+json": {
              "model_id": "99d65b6899914c039b46f03dab37ae99",
              "version_major": 2,
              "version_minor": 0
            },
            "text/plain": [
              "HBox(children=(IntProgress(value=0, description='Epoch', max=110), HTML(value='')))"
            ]
          },
          "metadata": {
            "tags": []
          }
        },
        {
          "output_type": "stream",
          "text": [
            "epoch      trn_loss   val_loss   accuracy                 \n",
            "    0      1.812441   1.859512   0.3174    \n",
            "    1      1.623513   1.485934   0.4409                   \n",
            "    2      1.43354    1.352941   0.5064                   \n",
            "    3      1.20538    1.823247   0.44                     \n",
            "    4      1.047512   1.031067   0.6364                   \n",
            "    5      0.903786   0.990384   0.6529                    \n",
            "    6      0.794144   0.937554   0.6923                    \n",
            "    7      0.719986   0.794384   0.7304                    \n",
            "    8      0.663548   0.824012   0.7209                    \n",
            "    9      0.616721   0.684154   0.7641                    \n",
            "    10     0.599153   0.760171   0.7422                    \n",
            "    11     0.569865   0.973621   0.6983                    \n",
            "    12     0.544941   0.826669   0.7262                    \n",
            "    13     0.524519   0.852246   0.7406                    \n",
            "    14     0.513213   0.753155   0.7662                    \n",
            "    15     0.497413   0.846931   0.7504                    \n",
            "    16     0.477519   0.668112   0.7875                    \n",
            "    17     0.473021   0.655387   0.783                     \n",
            "    18     0.466157   0.857789   0.7328                    \n",
            "    19     0.450976   0.666845   0.7821                    \n",
            "    20     0.443292   0.860191   0.7377                    \n",
            "    21     0.439205   1.131203   0.6821                    \n",
            "    22     0.446406   1.028122   0.7189                    \n",
            "    23     0.426874   1.017566   0.7207                    \n",
            "    24     0.427285   0.96748    0.7216                    \n",
            "    25     0.425151   0.703964   0.7811                    \n",
            "    26     0.418674   0.983397   0.7092                    \n",
            "    27     0.418991   0.744101   0.7635                    \n",
            "    28     0.415415   0.681863   0.7864                    \n",
            "    29     0.413028   0.61349    0.8049                    \n",
            "    30     0.41116    0.649954   0.789                     \n",
            "    31     0.395728   1.480305   0.6203                    \n",
            "    32     0.402052   0.689628   0.7703                    \n",
            "    33     0.39418    1.019106   0.7183                    \n",
            "    34     0.402665   0.668238   0.7811                    \n",
            "    35     0.408001   0.809439   0.7619                    \n",
            "    36     0.397961   0.859566   0.7617                    \n",
            "    37     0.394969   0.698795   0.7666                    \n",
            "    38     0.390791   0.685463   0.7879                    \n",
            "    39     0.393455   0.872631   0.7195                    \n",
            "    40     0.391663   0.686177   0.7817                    \n",
            "    41     0.395742   0.608006   0.8057                    \n",
            "    42     0.382299   0.761684   0.7698                    \n",
            "    43     0.390123   0.580282   0.8171                    \n",
            "    44     0.383594   0.948203   0.7183                    \n",
            "    45     0.386429   1.288566   0.675                     \n",
            "    46     0.386106   0.783413   0.7616                    \n",
            "    47     0.387071   0.907251   0.7336                    \n",
            "    48     0.376726   0.665081   0.8034                    \n",
            "    49     0.389123   0.749052   0.7737                    \n",
            "    50     0.383904   0.616589   0.801                     \n",
            "    51     0.374272   0.730153   0.7736                    \n",
            "    52     0.371789   0.712743   0.7745                    \n",
            "    53     0.377667   0.703202   0.7764                    \n",
            "    54     0.36974    0.61975    0.802                     \n",
            "    55     0.358827   0.551073   0.8208                    \n",
            "    56     0.356373   0.862586   0.7476                    \n",
            "    57     0.366815   0.699805   0.7845                    \n",
            "    58     0.358783   0.637675   0.8054                    \n",
            "    59     0.357312   0.856862   0.7544                    \n",
            "    60     0.353695   0.657164   0.7961                    \n",
            "    61     0.349274   0.767159   0.7683                    \n",
            "    62     0.346976   0.767261   0.7736                    \n",
            "    63     0.340436   0.628997   0.7969                    \n",
            "    64     0.341639   0.806389   0.7749                    \n",
            "    65     0.334653   0.665875   0.7943                    \n",
            "    66     0.34402    0.803923   0.7592                    \n",
            "    67     0.339453   0.633359   0.8014                    \n",
            "    68     0.332211   0.563867   0.8298                    \n",
            "    69     0.33266    0.641863   0.7961                    \n",
            "    70     0.329087   0.530855   0.8222                    \n",
            "    71     0.323273   0.578356   0.8087                    \n",
            "    72     0.319474   0.788859   0.7752                    \n",
            "    73     0.315593   0.51844    0.8351                    \n",
            "    74     0.314834   0.528026   0.8364                    \n",
            "    75     0.310698   0.609739   0.8137                    \n",
            "    76     0.310191   0.567951   0.82                      \n",
            "    77     0.307431   0.445347   0.8574                    \n",
            "    78     0.301006   0.643344   0.8068                    \n",
            "    79     0.301107   0.801222   0.7837                    \n",
            "    80     0.285171   0.49959    0.835                     \n",
            "    81     0.282677   0.486095   0.8435                    \n",
            "    82     0.271954   0.684845   0.8037                    \n",
            "    83     0.270613   0.485216   0.8463                    \n",
            "    84     0.262175   0.629983   0.8131                    \n",
            "    85     0.267298   0.418199   0.8652                    \n",
            "    86     0.253407   0.545097   0.8377                    \n",
            "    87     0.250527   0.376923   0.8776                    \n",
            "    88     0.252519   0.616157   0.8102                    \n",
            "    89     0.230011   0.489934   0.8478                    \n",
            "    90     0.218822   0.430929   0.8712                    \n",
            "    91     0.203619   0.395288   0.8746                    \n",
            "    92     0.192234   0.372025   0.8803                    \n",
            "    93     0.180982   0.338984   0.8912                    \n",
            "    94     0.167879   0.350927   0.8904                    \n",
            "    95     0.155493   0.402861   0.8785                    \n",
            "    96     0.148298   0.349918   0.8914                    \n",
            "    97     0.136534   0.316343   0.9028                    \n",
            "    98     0.124189   0.3294     0.906                     \n",
            "    99     0.113916   0.31101    0.9081                    \n",
            "   100     0.107916   0.299103   0.9114                    \n",
            "   101     0.097518   0.290329   0.9201                     \n",
            "   102     0.088652   0.305113   0.9159                     \n",
            "   103     0.076407   0.297681   0.9155                     \n",
            "   104     0.065395   0.297327   0.9162                     \n",
            "   105     0.055489   0.270902   0.9239                     \n",
            "   106     0.04417    0.259012   0.9284                     \n",
            "   107     0.034333   0.247566   0.9341                     \n",
            "   108     0.028114   0.247997   0.9339                     \n",
            "   109     0.022313   0.247694   0.9345                     \n",
            "\n",
            "Finished!\n"
          ],
          "name": "stdout"
        },
        {
          "output_type": "display_data",
          "data": {
            "image/png": "[encoded data removed]",
            "text/plain": [
              "<Figure size 432x288 with 1 Axes>"
            ]
          },
          "metadata": {
            "tags": []
          }
        },
        {
          "output_type": "display_data",
          "data": {
            "image/png": "[encoded data removed]",
            "text/plain": [
              "<Figure size 864x288 with 2 Axes>"
            ]
          },
          "metadata": {
            "tags": []
          }
        }
      ]
    },
    {
      "metadata": {
        "id": "UGG4K9YNsuyF",
        "colab_type": "code",
        "colab": {}
      },
      "cell_type": "code",
      "source": [
        "learner.save('cifar10-resnext-lr1')"
      ],
      "execution_count": 0,
      "outputs": []
    },
    {
      "metadata": {
        "id": "U998fG0ysuyI",
        "colab_type": "code",
        "colab": {}
      },
      "cell_type": "code",
      "source": [
        "learner.sched.plot()"
      ],
      "execution_count": 0,
      "outputs": []
    },
    {
      "metadata": {
        "id": "vfARMSWOsuyL",
        "colab_type": "code",
        "colab": {}
      },
      "cell_type": "code",
      "source": [
        "learner.lr_find()"
      ],
      "execution_count": 0,
      "outputs": []
    },
    {
      "metadata": {
        "id": "cwuj4CposuyP",
        "colab_type": "code",
        "colab": {}
      },
      "cell_type": "code",
      "source": [
        "learner.sched.plot()"
      ],
      "execution_count": 0,
      "outputs": []
    },
    {
      "metadata": {
        "id": "gERn5jCjsuyS",
        "colab_type": "code",
        "colab": {}
      },
      "cell_type": "code",
      "source": [
        "learner.fit(1e-5,1, cycle_len=15,\n",
        "            sampler=train_sampler,\n",
        "            wds=args.weight_decay,\n",
        "            loss_scale=args.loss_scale,\n",
        "            **sargs\n",
        "           )"
      ],
      "execution_count": 0,
      "outputs": []
    },
    {
      "metadata": {
        "id": "KGGW2ruLsuyW",
        "colab_type": "code",
        "outputId": "8f044455-8435-4188-eb92-02c35769a3c6",
        "colab": {}
      },
      "cell_type": "code",
      "source": [
        "\n",
        "if args.use_tta:\n",
        "    log_preds,y = learner.TTA()\n",
        "    preds = np.mean(np.exp(log_preds),0)\n",
        "    acc = accuracy(torch.FloatTensor(preds),torch.LongTensor(y))\n",
        "    print('TTA acc:', acc)\n",
        "    \n",
        "    with open(args.save_dir+'/tta_accuracy.txt', \"a\", 1) as f:\n",
        "        f.write(time.strftime(\"%Y-%m-%dT%H:%M:%S\")+f\"\\tTTA accuracty: {acc}\\n\")"
      ],
      "execution_count": 0,
      "outputs": [
        {
          "output_type": "stream",
          "text": [
            "TTA acc: 0.9389                              \n"
          ],
          "name": "stdout"
        }
      ]
    },
    {
      "metadata": {
        "id": "Ux7hQakrsuyZ",
        "colab_type": "code",
        "outputId": "6cedb7df-af38-4ead-e3ba-95d9b03b8bfc",
        "colab": {}
      },
      "cell_type": "code",
      "source": [
        "\n",
        "if args.use_tta:\n",
        "    log_preds,y = learner.TTA()\n",
        "    preds = np.mean(np.exp(log_preds),0)\n",
        "    acc = accuracy(torch.FloatTensor(preds),torch.LongTensor(y))\n",
        "    print('TTA acc:', acc)\n",
        "    \n",
        "    with open(args.save_dir+'/tta_accuracy.txt', \"a\", 1) as f:\n",
        "        f.write(time.strftime(\"%Y-%m-%dT%H:%M:%S\")+f\"\\tTTA accuracty: {acc}\\n\")"
      ],
      "execution_count": 0,
      "outputs": [
        {
          "output_type": "stream",
          "text": [
            "TTA acc: 0.9402                              \n"
          ],
          "name": "stdout"
        }
      ]
    },
    {
      "metadata": {
        "id": "DKsRrWMssuyb",
        "colab_type": "code",
        "colab": {}
      },
      "cell_type": "code",
      "source": [
        ""
      ],
      "execution_count": 0,
      "outputs": []
    }
  ]
}